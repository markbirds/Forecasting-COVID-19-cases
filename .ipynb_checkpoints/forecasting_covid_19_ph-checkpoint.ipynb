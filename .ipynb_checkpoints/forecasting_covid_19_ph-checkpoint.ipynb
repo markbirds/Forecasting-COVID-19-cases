{
 "cells": [
  {
   "cell_type": "markdown",
   "metadata": {
    "id": "XjJJfdpGALFq"
   },
   "source": [
    "# Forcasting COVID-19 cases in the Philippines"
   ]
  },
  {
   "cell_type": "markdown",
   "metadata": {
    "id": "bxsBl6o8CAKR"
   },
   "source": [
    "## Importing dataset from Kaggle"
   ]
  },
  {
   "cell_type": "code",
   "execution_count": 1,
   "metadata": {
    "id": "0NS7RB2S9zGm"
   },
   "outputs": [],
   "source": [
    "# from google.colab import files\n",
    "# files.upload()"
   ]
  },
  {
   "cell_type": "code",
   "execution_count": 2,
   "metadata": {
    "id": "hjvQzeepCCTP"
   },
   "outputs": [],
   "source": [
    "# !mkdir -p ~/.kaggle\n",
    "# !cp kaggle.json ~/.kaggle/\n",
    "\n",
    "# !chmod 600 ~/.kaggle/kaggle.json"
   ]
  },
  {
   "cell_type": "code",
   "execution_count": 3,
   "metadata": {
    "id": "WIieYPMBCipP"
   },
   "outputs": [],
   "source": [
    "# !kaggle datasets download -d antgoldbloom/covid19-data-from-john-hopkins-university"
   ]
  },
  {
   "cell_type": "code",
   "execution_count": 4,
   "metadata": {
    "id": "Y3ZB3VNMCmyg"
   },
   "outputs": [],
   "source": [
    "# from zipfile import ZipFile\n",
    "# file_name = \"/content/covid19-data-from-john-hopkins-university.zip\"\n",
    "\n",
    "# with ZipFile(file_name,\"r\") as zip:\n",
    "# \tzip.extractall()\n",
    "# \tprint(\"Done\")"
   ]
  },
  {
   "cell_type": "code",
   "execution_count": 5,
   "metadata": {
    "id": "Pok_-sLuCCeX"
   },
   "outputs": [],
   "source": [
    "import numpy as np\n",
    "import pandas as pd\n",
    "import matplotlib.pyplot as plt\n",
    "import seaborn as sns\n",
    "from warnings import simplefilter\n",
    "simplefilter(action='ignore', category=FutureWarning)"
   ]
  },
  {
   "cell_type": "markdown",
   "metadata": {
    "id": "kOIkjtZ9C4GS"
   },
   "source": [
    "## Load the dataset\n",
    "\n",
    "Dataset can be downloaded in https://www.kaggle.com/antgoldbloom/covid19-data-from-john-hopkins-university"
   ]
  },
  {
   "cell_type": "code",
   "execution_count": 6,
   "metadata": {
    "colab": {
     "base_uri": "https://localhost:8080/"
    },
    "id": "q1nBIbuoDA9_",
    "outputId": "15d585a3-3d04-4190-c0d4-ea668165f820"
   },
   "outputs": [
    {
     "name": "stdout",
     "output_type": "stream",
     "text": [
      "Dataset shape: (372, 274)\n"
     ]
    }
   ],
   "source": [
    "df= pd.read_csv('/content/CONVENIENT_global_confirmed_cases.csv')\n",
    "print('Dataset shape:',df.shape)"
   ]
  },
  {
   "cell_type": "code",
   "execution_count": 7,
   "metadata": {
    "colab": {
     "base_uri": "https://localhost:8080/",
     "height": 338
    },
    "id": "RrWCLjFhCCg_",
    "outputId": "8d6ee7c8-a77b-47fc-9061-a308a0d99876"
   },
   "outputs": [
    {
     "data": {
      "text/html": [
       "<div>\n",
       "<style scoped>\n",
       "    .dataframe tbody tr th:only-of-type {\n",
       "        vertical-align: middle;\n",
       "    }\n",
       "\n",
       "    .dataframe tbody tr th {\n",
       "        vertical-align: top;\n",
       "    }\n",
       "\n",
       "    .dataframe thead th {\n",
       "        text-align: right;\n",
       "    }\n",
       "</style>\n",
       "<table border=\"1\" class=\"dataframe\">\n",
       "  <thead>\n",
       "    <tr style=\"text-align: right;\">\n",
       "      <th></th>\n",
       "      <th>Country/Region</th>\n",
       "      <th>Afghanistan</th>\n",
       "      <th>Albania</th>\n",
       "      <th>Algeria</th>\n",
       "      <th>Andorra</th>\n",
       "      <th>Angola</th>\n",
       "      <th>Antigua and Barbuda</th>\n",
       "      <th>Argentina</th>\n",
       "      <th>Armenia</th>\n",
       "      <th>Australia</th>\n",
       "      <th>Australia.1</th>\n",
       "      <th>Australia.2</th>\n",
       "      <th>Australia.3</th>\n",
       "      <th>Australia.4</th>\n",
       "      <th>Australia.5</th>\n",
       "      <th>Australia.6</th>\n",
       "      <th>Australia.7</th>\n",
       "      <th>Austria</th>\n",
       "      <th>Azerbaijan</th>\n",
       "      <th>Bahamas</th>\n",
       "      <th>Bahrain</th>\n",
       "      <th>Bangladesh</th>\n",
       "      <th>Barbados</th>\n",
       "      <th>Belarus</th>\n",
       "      <th>Belgium</th>\n",
       "      <th>Belize</th>\n",
       "      <th>Benin</th>\n",
       "      <th>Bhutan</th>\n",
       "      <th>Bolivia</th>\n",
       "      <th>Bosnia and Herzegovina</th>\n",
       "      <th>Botswana</th>\n",
       "      <th>Brazil</th>\n",
       "      <th>Brunei</th>\n",
       "      <th>Bulgaria</th>\n",
       "      <th>Burkina Faso</th>\n",
       "      <th>Burma</th>\n",
       "      <th>Burundi</th>\n",
       "      <th>Cabo Verde</th>\n",
       "      <th>Cambodia</th>\n",
       "      <th>Cameroon</th>\n",
       "      <th>...</th>\n",
       "      <th>Spain</th>\n",
       "      <th>Sri Lanka</th>\n",
       "      <th>Sudan</th>\n",
       "      <th>Suriname</th>\n",
       "      <th>Sweden</th>\n",
       "      <th>Switzerland</th>\n",
       "      <th>Syria</th>\n",
       "      <th>Taiwan*</th>\n",
       "      <th>Tajikistan</th>\n",
       "      <th>Tanzania</th>\n",
       "      <th>Thailand</th>\n",
       "      <th>Timor-Leste</th>\n",
       "      <th>Togo</th>\n",
       "      <th>Trinidad and Tobago</th>\n",
       "      <th>Tunisia</th>\n",
       "      <th>Turkey</th>\n",
       "      <th>US</th>\n",
       "      <th>Uganda</th>\n",
       "      <th>Ukraine</th>\n",
       "      <th>United Arab Emirates</th>\n",
       "      <th>United Kingdom</th>\n",
       "      <th>United Kingdom.1</th>\n",
       "      <th>United Kingdom.2</th>\n",
       "      <th>United Kingdom.3</th>\n",
       "      <th>United Kingdom.4</th>\n",
       "      <th>United Kingdom.5</th>\n",
       "      <th>United Kingdom.6</th>\n",
       "      <th>United Kingdom.7</th>\n",
       "      <th>United Kingdom.8</th>\n",
       "      <th>United Kingdom.9</th>\n",
       "      <th>United Kingdom.10</th>\n",
       "      <th>Uruguay</th>\n",
       "      <th>Uzbekistan</th>\n",
       "      <th>Vanuatu</th>\n",
       "      <th>Venezuela</th>\n",
       "      <th>Vietnam</th>\n",
       "      <th>West Bank and Gaza</th>\n",
       "      <th>Yemen</th>\n",
       "      <th>Zambia</th>\n",
       "      <th>Zimbabwe</th>\n",
       "    </tr>\n",
       "  </thead>\n",
       "  <tbody>\n",
       "    <tr>\n",
       "      <th>0</th>\n",
       "      <td>Province/State</td>\n",
       "      <td>NaN</td>\n",
       "      <td>NaN</td>\n",
       "      <td>NaN</td>\n",
       "      <td>NaN</td>\n",
       "      <td>NaN</td>\n",
       "      <td>NaN</td>\n",
       "      <td>NaN</td>\n",
       "      <td>NaN</td>\n",
       "      <td>Australian Capital Territory</td>\n",
       "      <td>New South Wales</td>\n",
       "      <td>Northern Territory</td>\n",
       "      <td>Queensland</td>\n",
       "      <td>South Australia</td>\n",
       "      <td>Tasmania</td>\n",
       "      <td>Victoria</td>\n",
       "      <td>Western Australia</td>\n",
       "      <td>NaN</td>\n",
       "      <td>NaN</td>\n",
       "      <td>NaN</td>\n",
       "      <td>NaN</td>\n",
       "      <td>NaN</td>\n",
       "      <td>NaN</td>\n",
       "      <td>NaN</td>\n",
       "      <td>NaN</td>\n",
       "      <td>NaN</td>\n",
       "      <td>NaN</td>\n",
       "      <td>NaN</td>\n",
       "      <td>NaN</td>\n",
       "      <td>NaN</td>\n",
       "      <td>NaN</td>\n",
       "      <td>NaN</td>\n",
       "      <td>NaN</td>\n",
       "      <td>NaN</td>\n",
       "      <td>NaN</td>\n",
       "      <td>NaN</td>\n",
       "      <td>NaN</td>\n",
       "      <td>NaN</td>\n",
       "      <td>NaN</td>\n",
       "      <td>NaN</td>\n",
       "      <td>...</td>\n",
       "      <td>NaN</td>\n",
       "      <td>NaN</td>\n",
       "      <td>NaN</td>\n",
       "      <td>NaN</td>\n",
       "      <td>NaN</td>\n",
       "      <td>NaN</td>\n",
       "      <td>NaN</td>\n",
       "      <td>NaN</td>\n",
       "      <td>NaN</td>\n",
       "      <td>NaN</td>\n",
       "      <td>NaN</td>\n",
       "      <td>NaN</td>\n",
       "      <td>NaN</td>\n",
       "      <td>NaN</td>\n",
       "      <td>NaN</td>\n",
       "      <td>NaN</td>\n",
       "      <td>NaN</td>\n",
       "      <td>NaN</td>\n",
       "      <td>NaN</td>\n",
       "      <td>NaN</td>\n",
       "      <td>Anguilla</td>\n",
       "      <td>Bermuda</td>\n",
       "      <td>British Virgin Islands</td>\n",
       "      <td>Cayman Islands</td>\n",
       "      <td>Channel Islands</td>\n",
       "      <td>Falkland Islands (Malvinas)</td>\n",
       "      <td>Gibraltar</td>\n",
       "      <td>Isle of Man</td>\n",
       "      <td>Montserrat</td>\n",
       "      <td>Turks and Caicos Islands</td>\n",
       "      <td>NaN</td>\n",
       "      <td>NaN</td>\n",
       "      <td>NaN</td>\n",
       "      <td>NaN</td>\n",
       "      <td>NaN</td>\n",
       "      <td>NaN</td>\n",
       "      <td>NaN</td>\n",
       "      <td>NaN</td>\n",
       "      <td>NaN</td>\n",
       "      <td>NaN</td>\n",
       "    </tr>\n",
       "    <tr>\n",
       "      <th>1</th>\n",
       "      <td>1/23/20</td>\n",
       "      <td>0.0</td>\n",
       "      <td>0.0</td>\n",
       "      <td>0.0</td>\n",
       "      <td>0.0</td>\n",
       "      <td>0.0</td>\n",
       "      <td>0.0</td>\n",
       "      <td>0.0</td>\n",
       "      <td>0.0</td>\n",
       "      <td>0.0</td>\n",
       "      <td>0.0</td>\n",
       "      <td>0.0</td>\n",
       "      <td>0.0</td>\n",
       "      <td>0.0</td>\n",
       "      <td>0.0</td>\n",
       "      <td>0.0</td>\n",
       "      <td>0.0</td>\n",
       "      <td>0.0</td>\n",
       "      <td>0.0</td>\n",
       "      <td>0.0</td>\n",
       "      <td>0.0</td>\n",
       "      <td>0.0</td>\n",
       "      <td>0.0</td>\n",
       "      <td>0.0</td>\n",
       "      <td>0.0</td>\n",
       "      <td>0.0</td>\n",
       "      <td>0.0</td>\n",
       "      <td>0.0</td>\n",
       "      <td>0.0</td>\n",
       "      <td>0.0</td>\n",
       "      <td>0.0</td>\n",
       "      <td>0.0</td>\n",
       "      <td>0.0</td>\n",
       "      <td>0.0</td>\n",
       "      <td>0.0</td>\n",
       "      <td>0.0</td>\n",
       "      <td>0.0</td>\n",
       "      <td>0.0</td>\n",
       "      <td>0.0</td>\n",
       "      <td>0.0</td>\n",
       "      <td>...</td>\n",
       "      <td>0.0</td>\n",
       "      <td>0.0</td>\n",
       "      <td>0.0</td>\n",
       "      <td>0.0</td>\n",
       "      <td>0.0</td>\n",
       "      <td>0.0</td>\n",
       "      <td>0.0</td>\n",
       "      <td>0.0</td>\n",
       "      <td>0.0</td>\n",
       "      <td>0.0</td>\n",
       "      <td>0.0</td>\n",
       "      <td>0.0</td>\n",
       "      <td>0.0</td>\n",
       "      <td>0.0</td>\n",
       "      <td>0.0</td>\n",
       "      <td>0.0</td>\n",
       "      <td>0.0</td>\n",
       "      <td>0.0</td>\n",
       "      <td>0.0</td>\n",
       "      <td>0.0</td>\n",
       "      <td>0.0</td>\n",
       "      <td>0.0</td>\n",
       "      <td>0.0</td>\n",
       "      <td>0.0</td>\n",
       "      <td>0.0</td>\n",
       "      <td>0.0</td>\n",
       "      <td>0.0</td>\n",
       "      <td>0.0</td>\n",
       "      <td>0.0</td>\n",
       "      <td>0.0</td>\n",
       "      <td>0.0</td>\n",
       "      <td>0.0</td>\n",
       "      <td>0.0</td>\n",
       "      <td>0.0</td>\n",
       "      <td>0.0</td>\n",
       "      <td>2.0</td>\n",
       "      <td>0.0</td>\n",
       "      <td>0.0</td>\n",
       "      <td>0.0</td>\n",
       "      <td>0.0</td>\n",
       "    </tr>\n",
       "    <tr>\n",
       "      <th>2</th>\n",
       "      <td>1/24/20</td>\n",
       "      <td>0.0</td>\n",
       "      <td>0.0</td>\n",
       "      <td>0.0</td>\n",
       "      <td>0.0</td>\n",
       "      <td>0.0</td>\n",
       "      <td>0.0</td>\n",
       "      <td>0.0</td>\n",
       "      <td>0.0</td>\n",
       "      <td>0.0</td>\n",
       "      <td>0.0</td>\n",
       "      <td>0.0</td>\n",
       "      <td>0.0</td>\n",
       "      <td>0.0</td>\n",
       "      <td>0.0</td>\n",
       "      <td>0.0</td>\n",
       "      <td>0.0</td>\n",
       "      <td>0.0</td>\n",
       "      <td>0.0</td>\n",
       "      <td>0.0</td>\n",
       "      <td>0.0</td>\n",
       "      <td>0.0</td>\n",
       "      <td>0.0</td>\n",
       "      <td>0.0</td>\n",
       "      <td>0.0</td>\n",
       "      <td>0.0</td>\n",
       "      <td>0.0</td>\n",
       "      <td>0.0</td>\n",
       "      <td>0.0</td>\n",
       "      <td>0.0</td>\n",
       "      <td>0.0</td>\n",
       "      <td>0.0</td>\n",
       "      <td>0.0</td>\n",
       "      <td>0.0</td>\n",
       "      <td>0.0</td>\n",
       "      <td>0.0</td>\n",
       "      <td>0.0</td>\n",
       "      <td>0.0</td>\n",
       "      <td>0.0</td>\n",
       "      <td>0.0</td>\n",
       "      <td>...</td>\n",
       "      <td>0.0</td>\n",
       "      <td>0.0</td>\n",
       "      <td>0.0</td>\n",
       "      <td>0.0</td>\n",
       "      <td>0.0</td>\n",
       "      <td>0.0</td>\n",
       "      <td>0.0</td>\n",
       "      <td>2.0</td>\n",
       "      <td>0.0</td>\n",
       "      <td>0.0</td>\n",
       "      <td>1.0</td>\n",
       "      <td>0.0</td>\n",
       "      <td>0.0</td>\n",
       "      <td>0.0</td>\n",
       "      <td>0.0</td>\n",
       "      <td>0.0</td>\n",
       "      <td>1.0</td>\n",
       "      <td>0.0</td>\n",
       "      <td>0.0</td>\n",
       "      <td>0.0</td>\n",
       "      <td>0.0</td>\n",
       "      <td>0.0</td>\n",
       "      <td>0.0</td>\n",
       "      <td>0.0</td>\n",
       "      <td>0.0</td>\n",
       "      <td>0.0</td>\n",
       "      <td>0.0</td>\n",
       "      <td>0.0</td>\n",
       "      <td>0.0</td>\n",
       "      <td>0.0</td>\n",
       "      <td>0.0</td>\n",
       "      <td>0.0</td>\n",
       "      <td>0.0</td>\n",
       "      <td>0.0</td>\n",
       "      <td>0.0</td>\n",
       "      <td>0.0</td>\n",
       "      <td>0.0</td>\n",
       "      <td>0.0</td>\n",
       "      <td>0.0</td>\n",
       "      <td>0.0</td>\n",
       "    </tr>\n",
       "    <tr>\n",
       "      <th>3</th>\n",
       "      <td>1/25/20</td>\n",
       "      <td>0.0</td>\n",
       "      <td>0.0</td>\n",
       "      <td>0.0</td>\n",
       "      <td>0.0</td>\n",
       "      <td>0.0</td>\n",
       "      <td>0.0</td>\n",
       "      <td>0.0</td>\n",
       "      <td>0.0</td>\n",
       "      <td>0.0</td>\n",
       "      <td>0.0</td>\n",
       "      <td>0.0</td>\n",
       "      <td>0.0</td>\n",
       "      <td>0.0</td>\n",
       "      <td>0.0</td>\n",
       "      <td>0.0</td>\n",
       "      <td>0.0</td>\n",
       "      <td>0.0</td>\n",
       "      <td>0.0</td>\n",
       "      <td>0.0</td>\n",
       "      <td>0.0</td>\n",
       "      <td>0.0</td>\n",
       "      <td>0.0</td>\n",
       "      <td>0.0</td>\n",
       "      <td>0.0</td>\n",
       "      <td>0.0</td>\n",
       "      <td>0.0</td>\n",
       "      <td>0.0</td>\n",
       "      <td>0.0</td>\n",
       "      <td>0.0</td>\n",
       "      <td>0.0</td>\n",
       "      <td>0.0</td>\n",
       "      <td>0.0</td>\n",
       "      <td>0.0</td>\n",
       "      <td>0.0</td>\n",
       "      <td>0.0</td>\n",
       "      <td>0.0</td>\n",
       "      <td>0.0</td>\n",
       "      <td>0.0</td>\n",
       "      <td>0.0</td>\n",
       "      <td>...</td>\n",
       "      <td>0.0</td>\n",
       "      <td>0.0</td>\n",
       "      <td>0.0</td>\n",
       "      <td>0.0</td>\n",
       "      <td>0.0</td>\n",
       "      <td>0.0</td>\n",
       "      <td>0.0</td>\n",
       "      <td>0.0</td>\n",
       "      <td>0.0</td>\n",
       "      <td>0.0</td>\n",
       "      <td>1.0</td>\n",
       "      <td>0.0</td>\n",
       "      <td>0.0</td>\n",
       "      <td>0.0</td>\n",
       "      <td>0.0</td>\n",
       "      <td>0.0</td>\n",
       "      <td>0.0</td>\n",
       "      <td>0.0</td>\n",
       "      <td>0.0</td>\n",
       "      <td>0.0</td>\n",
       "      <td>0.0</td>\n",
       "      <td>0.0</td>\n",
       "      <td>0.0</td>\n",
       "      <td>0.0</td>\n",
       "      <td>0.0</td>\n",
       "      <td>0.0</td>\n",
       "      <td>0.0</td>\n",
       "      <td>0.0</td>\n",
       "      <td>0.0</td>\n",
       "      <td>0.0</td>\n",
       "      <td>0.0</td>\n",
       "      <td>0.0</td>\n",
       "      <td>0.0</td>\n",
       "      <td>0.0</td>\n",
       "      <td>0.0</td>\n",
       "      <td>0.0</td>\n",
       "      <td>0.0</td>\n",
       "      <td>0.0</td>\n",
       "      <td>0.0</td>\n",
       "      <td>0.0</td>\n",
       "    </tr>\n",
       "    <tr>\n",
       "      <th>4</th>\n",
       "      <td>1/26/20</td>\n",
       "      <td>0.0</td>\n",
       "      <td>0.0</td>\n",
       "      <td>0.0</td>\n",
       "      <td>0.0</td>\n",
       "      <td>0.0</td>\n",
       "      <td>0.0</td>\n",
       "      <td>0.0</td>\n",
       "      <td>0.0</td>\n",
       "      <td>0.0</td>\n",
       "      <td>3.0</td>\n",
       "      <td>0.0</td>\n",
       "      <td>0.0</td>\n",
       "      <td>0.0</td>\n",
       "      <td>0.0</td>\n",
       "      <td>1.0</td>\n",
       "      <td>0.0</td>\n",
       "      <td>0.0</td>\n",
       "      <td>0.0</td>\n",
       "      <td>0.0</td>\n",
       "      <td>0.0</td>\n",
       "      <td>0.0</td>\n",
       "      <td>0.0</td>\n",
       "      <td>0.0</td>\n",
       "      <td>0.0</td>\n",
       "      <td>0.0</td>\n",
       "      <td>0.0</td>\n",
       "      <td>0.0</td>\n",
       "      <td>0.0</td>\n",
       "      <td>0.0</td>\n",
       "      <td>0.0</td>\n",
       "      <td>0.0</td>\n",
       "      <td>0.0</td>\n",
       "      <td>0.0</td>\n",
       "      <td>0.0</td>\n",
       "      <td>0.0</td>\n",
       "      <td>0.0</td>\n",
       "      <td>0.0</td>\n",
       "      <td>0.0</td>\n",
       "      <td>0.0</td>\n",
       "      <td>...</td>\n",
       "      <td>0.0</td>\n",
       "      <td>0.0</td>\n",
       "      <td>0.0</td>\n",
       "      <td>0.0</td>\n",
       "      <td>0.0</td>\n",
       "      <td>0.0</td>\n",
       "      <td>0.0</td>\n",
       "      <td>1.0</td>\n",
       "      <td>0.0</td>\n",
       "      <td>0.0</td>\n",
       "      <td>2.0</td>\n",
       "      <td>0.0</td>\n",
       "      <td>0.0</td>\n",
       "      <td>0.0</td>\n",
       "      <td>0.0</td>\n",
       "      <td>0.0</td>\n",
       "      <td>3.0</td>\n",
       "      <td>0.0</td>\n",
       "      <td>0.0</td>\n",
       "      <td>0.0</td>\n",
       "      <td>0.0</td>\n",
       "      <td>0.0</td>\n",
       "      <td>0.0</td>\n",
       "      <td>0.0</td>\n",
       "      <td>0.0</td>\n",
       "      <td>0.0</td>\n",
       "      <td>0.0</td>\n",
       "      <td>0.0</td>\n",
       "      <td>0.0</td>\n",
       "      <td>0.0</td>\n",
       "      <td>0.0</td>\n",
       "      <td>0.0</td>\n",
       "      <td>0.0</td>\n",
       "      <td>0.0</td>\n",
       "      <td>0.0</td>\n",
       "      <td>0.0</td>\n",
       "      <td>0.0</td>\n",
       "      <td>0.0</td>\n",
       "      <td>0.0</td>\n",
       "      <td>0.0</td>\n",
       "    </tr>\n",
       "  </tbody>\n",
       "</table>\n",
       "<p>5 rows × 274 columns</p>\n",
       "</div>"
      ],
      "text/plain": [
       "   Country/Region  Afghanistan  Albania  ...  Yemen  Zambia  Zimbabwe\n",
       "0  Province/State          NaN      NaN  ...    NaN     NaN       NaN\n",
       "1         1/23/20          0.0      0.0  ...    0.0     0.0       0.0\n",
       "2         1/24/20          0.0      0.0  ...    0.0     0.0       0.0\n",
       "3         1/25/20          0.0      0.0  ...    0.0     0.0       0.0\n",
       "4         1/26/20          0.0      0.0  ...    0.0     0.0       0.0\n",
       "\n",
       "[5 rows x 274 columns]"
      ]
     },
     "execution_count": 7,
     "metadata": {
      "tags": []
     },
     "output_type": "execute_result"
    }
   ],
   "source": [
    "df.head()"
   ]
  },
  {
   "cell_type": "markdown",
   "metadata": {
    "id": "44cYhxi4HVsR"
   },
   "source": [
    "## Data Preprocessing\n",
    "\n",
    "* Retrieve covid-19 data for the Philippines\n",
    "* Visualization\n",
    "* Scaling"
   ]
  },
  {
   "cell_type": "markdown",
   "metadata": {
    "id": "GO3K4jtYIq5-"
   },
   "source": [
    "### Retrieve covid-19 data for the Philippines"
   ]
  },
  {
   "cell_type": "code",
   "execution_count": 8,
   "metadata": {
    "colab": {
     "base_uri": "https://localhost:8080/",
     "height": 204
    },
    "id": "WNTdwPHaIqrI",
    "outputId": "047d192d-c9ea-4cbc-89a2-7639c09cfcd6"
   },
   "outputs": [
    {
     "data": {
      "text/html": [
       "<div>\n",
       "<style scoped>\n",
       "    .dataframe tbody tr th:only-of-type {\n",
       "        vertical-align: middle;\n",
       "    }\n",
       "\n",
       "    .dataframe tbody tr th {\n",
       "        vertical-align: top;\n",
       "    }\n",
       "\n",
       "    .dataframe thead th {\n",
       "        text-align: right;\n",
       "    }\n",
       "</style>\n",
       "<table border=\"1\" class=\"dataframe\">\n",
       "  <thead>\n",
       "    <tr style=\"text-align: right;\">\n",
       "      <th></th>\n",
       "      <th>Date</th>\n",
       "      <th>Philippines</th>\n",
       "    </tr>\n",
       "  </thead>\n",
       "  <tbody>\n",
       "    <tr>\n",
       "      <th>0</th>\n",
       "      <td>1/23/20</td>\n",
       "      <td>0.0</td>\n",
       "    </tr>\n",
       "    <tr>\n",
       "      <th>1</th>\n",
       "      <td>1/24/20</td>\n",
       "      <td>0.0</td>\n",
       "    </tr>\n",
       "    <tr>\n",
       "      <th>2</th>\n",
       "      <td>1/25/20</td>\n",
       "      <td>0.0</td>\n",
       "    </tr>\n",
       "    <tr>\n",
       "      <th>3</th>\n",
       "      <td>1/26/20</td>\n",
       "      <td>0.0</td>\n",
       "    </tr>\n",
       "    <tr>\n",
       "      <th>4</th>\n",
       "      <td>1/27/20</td>\n",
       "      <td>0.0</td>\n",
       "    </tr>\n",
       "  </tbody>\n",
       "</table>\n",
       "</div>"
      ],
      "text/plain": [
       "      Date  Philippines\n",
       "0  1/23/20          0.0\n",
       "1  1/24/20          0.0\n",
       "2  1/25/20          0.0\n",
       "3  1/26/20          0.0\n",
       "4  1/27/20          0.0"
      ]
     },
     "execution_count": 8,
     "metadata": {
      "tags": []
     },
     "output_type": "execute_result"
    }
   ],
   "source": [
    "# Dropping first row (Province/State)\n",
    "ph_data = df[['Country/Region','Philippines']].rename(columns={'Country/Region':'Date'})[1:].reset_index(drop=True)\n",
    "ph_data.head()"
   ]
  },
  {
   "cell_type": "code",
   "execution_count": 9,
   "metadata": {
    "colab": {
     "base_uri": "https://localhost:8080/",
     "height": 204
    },
    "id": "bzs1tFF8hnh0",
    "outputId": "890af0f6-0ada-4c9e-e643-d4391b0f16b8"
   },
   "outputs": [
    {
     "data": {
      "text/html": [
       "<div>\n",
       "<style scoped>\n",
       "    .dataframe tbody tr th:only-of-type {\n",
       "        vertical-align: middle;\n",
       "    }\n",
       "\n",
       "    .dataframe tbody tr th {\n",
       "        vertical-align: top;\n",
       "    }\n",
       "\n",
       "    .dataframe thead th {\n",
       "        text-align: right;\n",
       "    }\n",
       "</style>\n",
       "<table border=\"1\" class=\"dataframe\">\n",
       "  <thead>\n",
       "    <tr style=\"text-align: right;\">\n",
       "      <th></th>\n",
       "      <th>Date</th>\n",
       "      <th>Philippines</th>\n",
       "    </tr>\n",
       "  </thead>\n",
       "  <tbody>\n",
       "    <tr>\n",
       "      <th>366</th>\n",
       "      <td>1/23/21</td>\n",
       "      <td>1792.0</td>\n",
       "    </tr>\n",
       "    <tr>\n",
       "      <th>367</th>\n",
       "      <td>1/24/21</td>\n",
       "      <td>1940.0</td>\n",
       "    </tr>\n",
       "    <tr>\n",
       "      <th>368</th>\n",
       "      <td>1/25/21</td>\n",
       "      <td>1377.0</td>\n",
       "    </tr>\n",
       "    <tr>\n",
       "      <th>369</th>\n",
       "      <td>1/26/21</td>\n",
       "      <td>1170.0</td>\n",
       "    </tr>\n",
       "    <tr>\n",
       "      <th>370</th>\n",
       "      <td>1/27/21</td>\n",
       "      <td>2241.0</td>\n",
       "    </tr>\n",
       "  </tbody>\n",
       "</table>\n",
       "</div>"
      ],
      "text/plain": [
       "        Date  Philippines\n",
       "366  1/23/21       1792.0\n",
       "367  1/24/21       1940.0\n",
       "368  1/25/21       1377.0\n",
       "369  1/26/21       1170.0\n",
       "370  1/27/21       2241.0"
      ]
     },
     "execution_count": 9,
     "metadata": {
      "tags": []
     },
     "output_type": "execute_result"
    }
   ],
   "source": [
    "ph_data.tail()"
   ]
  },
  {
   "cell_type": "markdown",
   "metadata": {
    "id": "jScieyfRLbdS"
   },
   "source": [
    "### Visualization"
   ]
  },
  {
   "cell_type": "code",
   "execution_count": 34,
   "metadata": {
    "colab": {
     "base_uri": "https://localhost:8080/",
     "height": 444
    },
    "id": "aj0lCd5ACCi_",
    "outputId": "82f3c166-e623-4dda-d172-4b7ca0abfcc2"
   },
   "outputs": [
    {
     "data": {
      "image/png": "[encoded data removed]",
      "text/plain": [
       "<Figure size 1080x504 with 1 Axes>"
      ]
     },
     "metadata": {
      "needs_background": "light",
      "tags": []
     },
     "output_type": "display_data"
    }
   ],
   "source": [
    "ph_data_copy = ph_data.copy()\n",
    "ph_data_copy['Date'] = pd.to_datetime(ph_data_copy['Date'])\n",
    "\n",
    "plt.figure(figsize=(15,7))\n",
    "plt.title('Daily new cases in the Philippines')\n",
    "plt.plot_date(ph_data_copy['Date'],ph_data_copy['Philippines'],color='#fc4a03',fmt='-',lw=2)\n",
    "plt.ylabel('New cases')\n",
    "plt.show()"
   ]
  },
  {
   "cell_type": "markdown",
   "metadata": {
    "id": "_pyGWoAljOOs"
   },
   "source": [
    "### Scaling"
   ]
  },
  {
   "cell_type": "code",
   "execution_count": 11,
   "metadata": {
    "colab": {
     "base_uri": "https://localhost:8080/"
    },
    "id": "i2gBA9f2CCkx",
    "outputId": "3ee0ab5e-1cf8-4e75-e9f6-cb2385834c18"
   },
   "outputs": [
    {
     "data": {
      "text/plain": [
       "array([[0.       ],\n",
       "       [0.       ],\n",
       "       [0.       ],\n",
       "       [0.       ],\n",
       "       [0.       ],\n",
       "       [0.       ],\n",
       "       [0.       ],\n",
       "       [0.0001487],\n",
       "       [0.       ],\n",
       "       [0.       ],\n",
       "       [0.0001487],\n",
       "       [0.       ],\n",
       "       [0.       ],\n",
       "       [0.       ],\n",
       "       [0.       ],\n",
       "       [0.0001487],\n",
       "       [0.       ],\n",
       "       [0.       ],\n",
       "       [0.       ],\n",
       "       [0.       ]])"
      ]
     },
     "execution_count": 11,
     "metadata": {
      "tags": []
     },
     "output_type": "execute_result"
    }
   ],
   "source": [
    "from sklearn.preprocessing import MinMaxScaler\n",
    "\n",
    "# scales down your data between 0 and 1\n",
    "scaler = MinMaxScaler()\n",
    "# reshape data since scaler accepts 2d array\n",
    "ph_data2 = scaler.fit_transform(np.array(ph_data['Philippines']).reshape(-1,1))\n",
    "ph_data2[:20]"
   ]
  },
  {
   "cell_type": "markdown",
   "metadata": {
    "id": "6_mW9zRTk1qm"
   },
   "source": [
    "## Model Building\n",
    "\n",
    "* Split the dataset into train and test dataset\n",
    "* Build X and y values from train and test data\n",
    "* Reshape X values\n",
    "* Training the Model\n",
    "* Model Evaluation\n",
    "* Saving the model\n",
    "* Forecasting"
   ]
  },
  {
   "cell_type": "markdown",
   "metadata": {
    "id": "Lo2aUX80pbxS"
   },
   "source": [
    "### Split the dataset into train and test dataset"
   ]
  },
  {
   "cell_type": "code",
   "execution_count": 12,
   "metadata": {
    "colab": {
     "base_uri": "https://localhost:8080/"
    },
    "id": "LSvcwV82CCmo",
    "outputId": "b98c888d-ec31-4cbe-9e72-5c976f541e01"
   },
   "outputs": [
    {
     "name": "stdout",
     "output_type": "stream",
     "text": [
      "Dataset length: 371\n",
      "\n",
      "Training dataset length: 296\n",
      "Testing dataset length: 75\n",
      "\n",
      "Training dataset shape: (296, 1)\n",
      "Testing dataset shape: (75, 1)\n"
     ]
    }
   ],
   "source": [
    "dataset_length = len(ph_data2)\n",
    "print(f'Dataset length: {dataset_length}')\n",
    "\n",
    "# Since we are dealing with time-series data, we cant just split the data randomly\n",
    "# First 80% of the data will be the training data and the remaining 20% for the testing data\n",
    "\n",
    "training_data_length = int(dataset_length*0.8)\n",
    "testing_data_length = dataset_length - training_data_length\n",
    "\n",
    "print(f'\\nTraining dataset length: {training_data_length}')\n",
    "print(f'Testing dataset length: {testing_data_length}')\n",
    "\n",
    "training_data = ph_data2[:training_data_length]\n",
    "testing_data = ph_data2[training_data_length:]\n",
    "\n",
    "print(f'\\nTraining dataset shape: {training_data.shape}')\n",
    "print(f'Testing dataset shape: {testing_data.shape}')"
   ]
  },
  {
   "cell_type": "markdown",
   "metadata": {
    "id": "05kvIWUZs5Rm"
   },
   "source": [
    "### Build X and y values from train and test data"
   ]
  },
  {
   "cell_type": "code",
   "execution_count": 13,
   "metadata": {
    "id": "uiKzV-A_CCoX"
   },
   "outputs": [],
   "source": [
    "# Now we will build X and y values with X = values with len(timesteps), y = value of timesteps + 1\n",
    "# Example: X = New cases in each day from Day 1 to Day 60, y = number of new cases in Day 61\n",
    "# Next iteration will be new cases from Day 2 to Day 61, y = number of new cases in Day 62\n",
    "\n",
    "def create_X_and_y(dataset, timesteps=1):\n",
    "  X,y = [],[]\n",
    "  dataset_length = len(dataset) # to predict the number of cases in the last day, first day will start in index [dataset_length - timesteps - 1]\n",
    "  for i in range(dataset_length-timesteps):\n",
    "    temp = dataset[i:i+timesteps,0] \n",
    "    X.append(temp)\n",
    "    y.append(dataset[i+timesteps,0])\n",
    "  return np.array(X), np.array(y)"
   ]
  },
  {
   "cell_type": "code",
   "execution_count": 14,
   "metadata": {
    "colab": {
     "base_uri": "https://localhost:8080/"
    },
    "id": "Qj-gqJDCCCqR",
    "outputId": "146a683f-f2f6-4fae-a0cf-4dd26cc02948"
   },
   "outputs": [
    {
     "name": "stdout",
     "output_type": "stream",
     "text": [
      "X train shape: (236, 60)\n",
      "y train shape: (236,)\n",
      "X test shape: (15, 60)\n",
      "y test shape: (15,)\n"
     ]
    }
   ],
   "source": [
    "# initializing timesteps = 60 days\n",
    "timesteps = 60\n",
    "\n",
    "X_train, y_train = create_X_and_y(training_data,timesteps)\n",
    "X_test, y_test = create_X_and_y(testing_data,timesteps)\n",
    "\n",
    "print(f'X train shape: {X_train.shape}')\n",
    "print(f'y train shape: {y_train.shape}')\n",
    "print(f'X test shape: {X_test.shape}')\n",
    "print(f'y test shape: {y_test.shape}')"
   ]
  },
  {
   "cell_type": "markdown",
   "metadata": {
    "id": "hu9FxjdF3AwY"
   },
   "source": [
    "### Reshape X values"
   ]
  },
  {
   "cell_type": "code",
   "execution_count": 15,
   "metadata": {
    "colab": {
     "base_uri": "https://localhost:8080/"
    },
    "id": "L3AdqiYL189I",
    "outputId": "12cab81d-385c-453b-e5e3-1a3ffa6d7545"
   },
   "outputs": [
    {
     "name": "stdout",
     "output_type": "stream",
     "text": [
      "X train shape: (236, 60, 1)\n",
      "X test shape: (15, 60, 1)\n"
     ]
    }
   ],
   "source": [
    "# LSTM accepts inputs in shape [batch, timesteps, feature]\n",
    "# Values in timesteps doesn't have feature representation other than itself hence feature dimension will be equal to 1\n",
    "\n",
    "X_train = X_train.reshape(X_train.shape[0],X_train.shape[1],1)\n",
    "X_test = X_test.reshape(X_test.shape[0],X_test.shape[1],1)\n",
    "\n",
    "print(f'X train shape: {X_train.shape}')\n",
    "print(f'X test shape: {X_test.shape}')"
   ]
  },
  {
   "cell_type": "code",
   "execution_count": 16,
   "metadata": {
    "colab": {
     "base_uri": "https://localhost:8080/"
    },
    "id": "YZi1kRSQ_fhe",
    "outputId": "cef34be0-e43b-400e-8053-e1da7fdd16b9"
   },
   "outputs": [
    {
     "data": {
      "text/plain": [
       "array([[0.        ],\n",
       "       [0.        ],\n",
       "       [0.        ],\n",
       "       [0.        ],\n",
       "       [0.        ],\n",
       "       [0.        ],\n",
       "       [0.        ],\n",
       "       [0.0001487 ],\n",
       "       [0.        ],\n",
       "       [0.        ],\n",
       "       [0.0001487 ],\n",
       "       [0.        ],\n",
       "       [0.        ],\n",
       "       [0.        ],\n",
       "       [0.        ],\n",
       "       [0.0001487 ],\n",
       "       [0.        ],\n",
       "       [0.        ],\n",
       "       [0.        ],\n",
       "       [0.        ],\n",
       "       [0.        ],\n",
       "       [0.        ],\n",
       "       [0.        ],\n",
       "       [0.        ],\n",
       "       [0.        ],\n",
       "       [0.        ],\n",
       "       [0.        ],\n",
       "       [0.        ],\n",
       "       [0.        ],\n",
       "       [0.        ],\n",
       "       [0.        ],\n",
       "       [0.        ],\n",
       "       [0.        ],\n",
       "       [0.        ],\n",
       "       [0.        ],\n",
       "       [0.        ],\n",
       "       [0.        ],\n",
       "       [0.        ],\n",
       "       [0.        ],\n",
       "       [0.        ],\n",
       "       [0.        ],\n",
       "       [0.        ],\n",
       "       [0.        ],\n",
       "       [0.0002974 ],\n",
       "       [0.0001487 ],\n",
       "       [0.0005948 ],\n",
       "       [0.00148699],\n",
       "       [0.00193309],\n",
       "       [0.00237918],\n",
       "       [0.0004461 ],\n",
       "       [0.00178439],\n",
       "       [0.00698885],\n",
       "       [0.00431227],\n",
       "       [0.0002974 ],\n",
       "       [0.00669145],\n",
       "       [0.00223048],\n",
       "       [0.00223048],\n",
       "       [0.00193309],\n",
       "       [0.01144981],\n",
       "       [0.01085502]])"
      ]
     },
     "execution_count": 16,
     "metadata": {
      "tags": []
     },
     "output_type": "execute_result"
    }
   ],
   "source": [
    "X_train[0]"
   ]
  },
  {
   "cell_type": "markdown",
   "metadata": {
    "id": "7ytKOtiM8D6r"
   },
   "source": [
    "### Training the Model"
   ]
  },
  {
   "cell_type": "code",
   "execution_count": 17,
   "metadata": {
    "id": "RbGVaK092Wom"
   },
   "outputs": [],
   "source": [
    "import tensorflow as tf\n",
    "from tensorflow.keras import Sequential\n",
    "from tensorflow.keras.layers import LSTM , Dense, Bidirectional"
   ]
  },
  {
   "cell_type": "code",
   "execution_count": 18,
   "metadata": {
    "id": "cUmq55zg8W4m"
   },
   "outputs": [],
   "source": [
    "model = Sequential()\n",
    "\n",
    "model.add(Bidirectional(LSTM(20, return_sequences=True)))\n",
    "model.add(Bidirectional(LSTM(20, return_sequences=True)))\n",
    "model.add(Bidirectional(LSTM(10, return_sequences=True)))\n",
    "model.add(Bidirectional(LSTM(10)))\n",
    "\n",
    "model.add(Dense(1))\n",
    "\n",
    "model.compile(optimizer='adam', loss='mse')"
   ]
  },
  {
   "cell_type": "code",
   "execution_count": 19,
   "metadata": {
    "colab": {
     "base_uri": "https://localhost:8080/"
    },
    "id": "MtgYAGEl28yu",
    "outputId": "7fe49124-2982-4671-c46e-9a5281fb0aa9"
   },
   "outputs": [
    {
     "name": "stdout",
     "output_type": "stream",
     "text": [
      "Epoch 1/150\n",
      "8/8 [==============================] - 17s 532ms/step - loss: 0.0706 - val_loss: 0.0139\n",
      "Epoch 2/150\n",
      "8/8 [==============================] - 1s 101ms/step - loss: 0.0243 - val_loss: 0.0031\n",
      "Epoch 3/150\n",
      "8/8 [==============================] - 1s 104ms/step - loss: 0.0169 - val_loss: 0.0026\n",
      "Epoch 4/150\n",
      "8/8 [==============================] - 1s 105ms/step - loss: 0.0156 - val_loss: 0.0031\n",
      "Epoch 5/150\n",
      "8/8 [==============================] - 1s 103ms/step - loss: 0.0130 - val_loss: 0.0031\n",
      "Epoch 6/150\n",
      "8/8 [==============================] - 1s 109ms/step - loss: 0.0096 - val_loss: 0.0032\n",
      "Epoch 7/150\n",
      "8/8 [==============================] - 1s 105ms/step - loss: 0.0111 - val_loss: 0.0031\n",
      "Epoch 8/150\n",
      "8/8 [==============================] - 1s 105ms/step - loss: 0.0091 - val_loss: 0.0058\n",
      "Epoch 9/150\n",
      "8/8 [==============================] - 1s 107ms/step - loss: 0.0110 - val_loss: 0.0032\n",
      "Epoch 10/150\n",
      "8/8 [==============================] - 1s 106ms/step - loss: 0.0107 - val_loss: 0.0051\n",
      "Epoch 11/150\n",
      "8/8 [==============================] - 1s 104ms/step - loss: 0.0099 - val_loss: 0.0034\n",
      "Epoch 12/150\n",
      "8/8 [==============================] - 1s 107ms/step - loss: 0.0085 - val_loss: 0.0033\n",
      "Epoch 13/150\n",
      "8/8 [==============================] - 1s 109ms/step - loss: 0.0098 - val_loss: 0.0039\n",
      "Epoch 14/150\n",
      "8/8 [==============================] - 1s 107ms/step - loss: 0.0087 - val_loss: 0.0035\n",
      "Epoch 15/150\n",
      "8/8 [==============================] - 1s 111ms/step - loss: 0.0085 - val_loss: 0.0043\n",
      "Epoch 16/150\n",
      "8/8 [==============================] - 1s 107ms/step - loss: 0.0083 - val_loss: 0.0035\n",
      "Epoch 17/150\n",
      "8/8 [==============================] - 1s 105ms/step - loss: 0.0087 - val_loss: 0.0034\n",
      "Epoch 18/150\n",
      "8/8 [==============================] - 1s 110ms/step - loss: 0.0088 - val_loss: 0.0034\n",
      "Epoch 19/150\n",
      "8/8 [==============================] - 1s 109ms/step - loss: 0.0086 - val_loss: 0.0034\n",
      "Epoch 20/150\n",
      "8/8 [==============================] - 1s 109ms/step - loss: 0.0100 - val_loss: 0.0035\n",
      "Epoch 21/150\n",
      "8/8 [==============================] - 1s 110ms/step - loss: 0.0078 - val_loss: 0.0038\n",
      "Epoch 22/150\n",
      "8/8 [==============================] - 1s 109ms/step - loss: 0.0089 - val_loss: 0.0035\n",
      "Epoch 23/150\n",
      "8/8 [==============================] - 1s 112ms/step - loss: 0.0096 - val_loss: 0.0038\n",
      "Epoch 24/150\n",
      "8/8 [==============================] - 1s 107ms/step - loss: 0.0077 - val_loss: 0.0043\n",
      "Epoch 25/150\n",
      "8/8 [==============================] - 1s 107ms/step - loss: 0.0077 - val_loss: 0.0034\n",
      "Epoch 26/150\n",
      "8/8 [==============================] - 1s 104ms/step - loss: 0.0079 - val_loss: 0.0038\n",
      "Epoch 27/150\n",
      "8/8 [==============================] - 1s 111ms/step - loss: 0.0088 - val_loss: 0.0048\n",
      "Epoch 28/150\n",
      "8/8 [==============================] - 1s 104ms/step - loss: 0.0084 - val_loss: 0.0037\n",
      "Epoch 29/150\n",
      "8/8 [==============================] - 1s 109ms/step - loss: 0.0071 - val_loss: 0.0042\n",
      "Epoch 30/150\n",
      "8/8 [==============================] - 1s 107ms/step - loss: 0.0082 - val_loss: 0.0036\n",
      "Epoch 31/150\n",
      "8/8 [==============================] - 1s 133ms/step - loss: 0.0070 - val_loss: 0.0042\n",
      "Epoch 32/150\n",
      "8/8 [==============================] - 1s 109ms/step - loss: 0.0071 - val_loss: 0.0041\n",
      "Epoch 33/150\n",
      "8/8 [==============================] - 1s 106ms/step - loss: 0.0083 - val_loss: 0.0040\n",
      "Epoch 34/150\n",
      "8/8 [==============================] - 1s 106ms/step - loss: 0.0080 - val_loss: 0.0046\n",
      "Epoch 35/150\n",
      "8/8 [==============================] - 1s 110ms/step - loss: 0.0079 - val_loss: 0.0044\n",
      "Epoch 36/150\n",
      "8/8 [==============================] - 1s 107ms/step - loss: 0.0082 - val_loss: 0.0049\n",
      "Epoch 37/150\n",
      "8/8 [==============================] - 1s 107ms/step - loss: 0.0079 - val_loss: 0.0049\n",
      "Epoch 38/150\n",
      "8/8 [==============================] - 1s 111ms/step - loss: 0.0071 - val_loss: 0.0045\n",
      "Epoch 39/150\n",
      "8/8 [==============================] - 1s 110ms/step - loss: 0.0087 - val_loss: 0.0057\n",
      "Epoch 40/150\n",
      "8/8 [==============================] - 1s 107ms/step - loss: 0.0083 - val_loss: 0.0046\n",
      "Epoch 41/150\n",
      "8/8 [==============================] - 1s 109ms/step - loss: 0.0075 - val_loss: 0.0051\n",
      "Epoch 42/150\n",
      "8/8 [==============================] - 1s 110ms/step - loss: 0.0077 - val_loss: 0.0042\n",
      "Epoch 43/150\n",
      "8/8 [==============================] - 1s 99ms/step - loss: 0.0083 - val_loss: 0.0042\n",
      "Epoch 44/150\n",
      "8/8 [==============================] - 1s 104ms/step - loss: 0.0080 - val_loss: 0.0050\n",
      "Epoch 45/150\n",
      "8/8 [==============================] - 1s 110ms/step - loss: 0.0081 - val_loss: 0.0052\n",
      "Epoch 46/150\n",
      "8/8 [==============================] - 1s 104ms/step - loss: 0.0091 - val_loss: 0.0051\n",
      "Epoch 47/150\n",
      "8/8 [==============================] - 1s 108ms/step - loss: 0.0072 - val_loss: 0.0064\n",
      "Epoch 48/150\n",
      "8/8 [==============================] - 1s 111ms/step - loss: 0.0077 - val_loss: 0.0045\n",
      "Epoch 49/150\n",
      "8/8 [==============================] - 1s 112ms/step - loss: 0.0073 - val_loss: 0.0048\n",
      "Epoch 50/150\n",
      "8/8 [==============================] - 1s 113ms/step - loss: 0.0080 - val_loss: 0.0045\n",
      "Epoch 51/150\n",
      "8/8 [==============================] - 1s 109ms/step - loss: 0.0071 - val_loss: 0.0065\n",
      "Epoch 52/150\n",
      "8/8 [==============================] - 1s 109ms/step - loss: 0.0081 - val_loss: 0.0046\n",
      "Epoch 53/150\n",
      "8/8 [==============================] - 1s 110ms/step - loss: 0.0090 - val_loss: 0.0062\n",
      "Epoch 54/150\n",
      "8/8 [==============================] - 1s 108ms/step - loss: 0.0072 - val_loss: 0.0043\n",
      "Epoch 55/150\n",
      "8/8 [==============================] - 1s 107ms/step - loss: 0.0082 - val_loss: 0.0066\n",
      "Epoch 56/150\n",
      "8/8 [==============================] - 1s 109ms/step - loss: 0.0092 - val_loss: 0.0042\n",
      "Epoch 57/150\n",
      "8/8 [==============================] - 1s 112ms/step - loss: 0.0075 - val_loss: 0.0040\n",
      "Epoch 58/150\n",
      "8/8 [==============================] - 1s 106ms/step - loss: 0.0078 - val_loss: 0.0040\n",
      "Epoch 59/150\n",
      "8/8 [==============================] - 1s 109ms/step - loss: 0.0091 - val_loss: 0.0047\n",
      "Epoch 60/150\n",
      "8/8 [==============================] - 1s 107ms/step - loss: 0.0094 - val_loss: 0.0044\n",
      "Epoch 61/150\n",
      "8/8 [==============================] - 1s 103ms/step - loss: 0.0090 - val_loss: 0.0042\n",
      "Epoch 62/150\n",
      "8/8 [==============================] - 1s 110ms/step - loss: 0.0077 - val_loss: 0.0053\n",
      "Epoch 63/150\n",
      "8/8 [==============================] - 1s 110ms/step - loss: 0.0103 - val_loss: 0.0041\n",
      "Epoch 64/150\n",
      "8/8 [==============================] - 1s 108ms/step - loss: 0.0077 - val_loss: 0.0040\n",
      "Epoch 65/150\n",
      "8/8 [==============================] - 1s 111ms/step - loss: 0.0075 - val_loss: 0.0044\n",
      "Epoch 66/150\n",
      "8/8 [==============================] - 1s 107ms/step - loss: 0.0082 - val_loss: 0.0042\n",
      "Epoch 67/150\n",
      "8/8 [==============================] - 1s 112ms/step - loss: 0.0076 - val_loss: 0.0036\n",
      "Epoch 68/150\n",
      "8/8 [==============================] - 1s 111ms/step - loss: 0.0082 - val_loss: 0.0050\n",
      "Epoch 69/150\n",
      "8/8 [==============================] - 1s 108ms/step - loss: 0.0087 - val_loss: 0.0047\n",
      "Epoch 70/150\n",
      "8/8 [==============================] - 1s 109ms/step - loss: 0.0076 - val_loss: 0.0049\n",
      "Epoch 71/150\n",
      "8/8 [==============================] - 1s 103ms/step - loss: 0.0083 - val_loss: 0.0040\n",
      "Epoch 72/150\n",
      "8/8 [==============================] - 1s 106ms/step - loss: 0.0075 - val_loss: 0.0044\n",
      "Epoch 73/150\n",
      "8/8 [==============================] - 1s 110ms/step - loss: 0.0083 - val_loss: 0.0047\n",
      "Epoch 74/150\n",
      "8/8 [==============================] - 1s 109ms/step - loss: 0.0071 - val_loss: 0.0045\n",
      "Epoch 75/150\n",
      "8/8 [==============================] - 1s 115ms/step - loss: 0.0076 - val_loss: 0.0043\n",
      "Epoch 76/150\n",
      "8/8 [==============================] - 1s 107ms/step - loss: 0.0077 - val_loss: 0.0041\n",
      "Epoch 77/150\n",
      "8/8 [==============================] - 1s 102ms/step - loss: 0.0089 - val_loss: 0.0039\n",
      "Epoch 78/150\n",
      "8/8 [==============================] - 1s 111ms/step - loss: 0.0080 - val_loss: 0.0041\n",
      "Epoch 79/150\n",
      "8/8 [==============================] - 1s 106ms/step - loss: 0.0077 - val_loss: 0.0040\n",
      "Epoch 80/150\n",
      "8/8 [==============================] - 1s 104ms/step - loss: 0.0096 - val_loss: 0.0050\n",
      "Epoch 81/150\n",
      "8/8 [==============================] - 1s 109ms/step - loss: 0.0090 - val_loss: 0.0046\n",
      "Epoch 82/150\n",
      "8/8 [==============================] - 1s 103ms/step - loss: 0.0086 - val_loss: 0.0041\n",
      "Epoch 83/150\n",
      "8/8 [==============================] - 1s 108ms/step - loss: 0.0088 - val_loss: 0.0037\n",
      "Epoch 84/150\n",
      "8/8 [==============================] - 1s 108ms/step - loss: 0.0083 - val_loss: 0.0047\n",
      "Epoch 85/150\n",
      "8/8 [==============================] - 1s 104ms/step - loss: 0.0087 - val_loss: 0.0038\n",
      "Epoch 86/150\n",
      "8/8 [==============================] - 1s 106ms/step - loss: 0.0075 - val_loss: 0.0043\n",
      "Epoch 87/150\n",
      "8/8 [==============================] - 1s 111ms/step - loss: 0.0068 - val_loss: 0.0036\n",
      "Epoch 88/150\n",
      "8/8 [==============================] - 1s 109ms/step - loss: 0.0085 - val_loss: 0.0040\n",
      "Epoch 89/150\n",
      "8/8 [==============================] - 1s 109ms/step - loss: 0.0062 - val_loss: 0.0039\n",
      "Epoch 90/150\n",
      "8/8 [==============================] - 1s 105ms/step - loss: 0.0080 - val_loss: 0.0048\n",
      "Epoch 91/150\n",
      "8/8 [==============================] - 1s 108ms/step - loss: 0.0080 - val_loss: 0.0042\n",
      "Epoch 92/150\n",
      "8/8 [==============================] - 1s 107ms/step - loss: 0.0076 - val_loss: 0.0040\n",
      "Epoch 93/150\n",
      "8/8 [==============================] - 1s 112ms/step - loss: 0.0078 - val_loss: 0.0038\n",
      "Epoch 94/150\n",
      "8/8 [==============================] - 1s 107ms/step - loss: 0.0079 - val_loss: 0.0043\n",
      "Epoch 95/150\n",
      "8/8 [==============================] - 1s 114ms/step - loss: 0.0081 - val_loss: 0.0037\n",
      "Epoch 96/150\n",
      "8/8 [==============================] - 1s 108ms/step - loss: 0.0089 - val_loss: 0.0042\n",
      "Epoch 97/150\n",
      "8/8 [==============================] - 1s 108ms/step - loss: 0.0089 - val_loss: 0.0043\n",
      "Epoch 98/150\n",
      "8/8 [==============================] - 1s 108ms/step - loss: 0.0082 - val_loss: 0.0038\n",
      "Epoch 99/150\n",
      "8/8 [==============================] - 1s 105ms/step - loss: 0.0088 - val_loss: 0.0045\n",
      "Epoch 100/150\n",
      "8/8 [==============================] - 1s 113ms/step - loss: 0.0079 - val_loss: 0.0038\n",
      "Epoch 101/150\n",
      "8/8 [==============================] - 1s 105ms/step - loss: 0.0083 - val_loss: 0.0039\n",
      "Epoch 102/150\n",
      "8/8 [==============================] - 1s 108ms/step - loss: 0.0066 - val_loss: 0.0039\n",
      "Epoch 103/150\n",
      "8/8 [==============================] - 1s 109ms/step - loss: 0.0085 - val_loss: 0.0035\n",
      "Epoch 104/150\n",
      "8/8 [==============================] - 1s 108ms/step - loss: 0.0071 - val_loss: 0.0036\n",
      "Epoch 105/150\n",
      "8/8 [==============================] - 1s 111ms/step - loss: 0.0075 - val_loss: 0.0036\n",
      "Epoch 106/150\n",
      "8/8 [==============================] - 1s 107ms/step - loss: 0.0071 - val_loss: 0.0037\n",
      "Epoch 107/150\n",
      "8/8 [==============================] - 1s 111ms/step - loss: 0.0074 - val_loss: 0.0038\n",
      "Epoch 108/150\n",
      "8/8 [==============================] - 1s 110ms/step - loss: 0.0075 - val_loss: 0.0036\n",
      "Epoch 109/150\n",
      "8/8 [==============================] - 1s 112ms/step - loss: 0.0071 - val_loss: 0.0039\n",
      "Epoch 110/150\n",
      "8/8 [==============================] - 1s 108ms/step - loss: 0.0077 - val_loss: 0.0039\n",
      "Epoch 111/150\n",
      "8/8 [==============================] - 1s 110ms/step - loss: 0.0094 - val_loss: 0.0042\n",
      "Epoch 112/150\n",
      "8/8 [==============================] - 1s 110ms/step - loss: 0.0084 - val_loss: 0.0034\n",
      "Epoch 113/150\n",
      "8/8 [==============================] - 1s 112ms/step - loss: 0.0075 - val_loss: 0.0036\n",
      "Epoch 114/150\n",
      "8/8 [==============================] - 1s 98ms/step - loss: 0.0086 - val_loss: 0.0036\n",
      "Epoch 115/150\n",
      "8/8 [==============================] - 1s 110ms/step - loss: 0.0072 - val_loss: 0.0036\n",
      "Epoch 116/150\n",
      "8/8 [==============================] - 1s 112ms/step - loss: 0.0078 - val_loss: 0.0035\n",
      "Epoch 117/150\n",
      "8/8 [==============================] - 1s 100ms/step - loss: 0.0075 - val_loss: 0.0035\n",
      "Epoch 118/150\n",
      "8/8 [==============================] - 1s 109ms/step - loss: 0.0087 - val_loss: 0.0035\n",
      "Epoch 119/150\n",
      "8/8 [==============================] - 1s 136ms/step - loss: 0.0073 - val_loss: 0.0036\n",
      "Epoch 120/150\n",
      "8/8 [==============================] - 1s 112ms/step - loss: 0.0079 - val_loss: 0.0035\n",
      "Epoch 121/150\n",
      "8/8 [==============================] - 1s 109ms/step - loss: 0.0093 - val_loss: 0.0038\n",
      "Epoch 122/150\n",
      "8/8 [==============================] - 1s 108ms/step - loss: 0.0076 - val_loss: 0.0035\n",
      "Epoch 123/150\n",
      "8/8 [==============================] - 1s 109ms/step - loss: 0.0084 - val_loss: 0.0035\n",
      "Epoch 124/150\n",
      "8/8 [==============================] - 1s 109ms/step - loss: 0.0082 - val_loss: 0.0035\n",
      "Epoch 125/150\n",
      "8/8 [==============================] - 1s 111ms/step - loss: 0.0085 - val_loss: 0.0035\n",
      "Epoch 126/150\n",
      "8/8 [==============================] - 1s 111ms/step - loss: 0.0077 - val_loss: 0.0035\n",
      "Epoch 127/150\n",
      "8/8 [==============================] - 1s 112ms/step - loss: 0.0076 - val_loss: 0.0035\n",
      "Epoch 128/150\n",
      "8/8 [==============================] - 1s 106ms/step - loss: 0.0068 - val_loss: 0.0036\n",
      "Epoch 129/150\n",
      "8/8 [==============================] - 1s 109ms/step - loss: 0.0076 - val_loss: 0.0035\n",
      "Epoch 130/150\n",
      "8/8 [==============================] - 1s 111ms/step - loss: 0.0084 - val_loss: 0.0037\n",
      "Epoch 131/150\n",
      "8/8 [==============================] - 1s 111ms/step - loss: 0.0076 - val_loss: 0.0034\n",
      "Epoch 132/150\n",
      "8/8 [==============================] - 1s 111ms/step - loss: 0.0089 - val_loss: 0.0035\n",
      "Epoch 133/150\n",
      "8/8 [==============================] - 1s 108ms/step - loss: 0.0078 - val_loss: 0.0036\n",
      "Epoch 134/150\n",
      "8/8 [==============================] - 1s 112ms/step - loss: 0.0064 - val_loss: 0.0035\n",
      "Epoch 135/150\n",
      "8/8 [==============================] - 1s 110ms/step - loss: 0.0085 - val_loss: 0.0035\n",
      "Epoch 136/150\n",
      "8/8 [==============================] - 1s 109ms/step - loss: 0.0071 - val_loss: 0.0036\n",
      "Epoch 137/150\n",
      "8/8 [==============================] - 1s 107ms/step - loss: 0.0065 - val_loss: 0.0035\n",
      "Epoch 138/150\n",
      "8/8 [==============================] - 1s 110ms/step - loss: 0.0077 - val_loss: 0.0037\n",
      "Epoch 139/150\n",
      "8/8 [==============================] - 1s 110ms/step - loss: 0.0075 - val_loss: 0.0036\n",
      "Epoch 140/150\n",
      "8/8 [==============================] - 1s 109ms/step - loss: 0.0070 - val_loss: 0.0036\n",
      "Epoch 141/150\n",
      "8/8 [==============================] - 1s 109ms/step - loss: 0.0082 - val_loss: 0.0037\n",
      "Epoch 142/150\n",
      "8/8 [==============================] - 1s 112ms/step - loss: 0.0077 - val_loss: 0.0035\n",
      "Epoch 143/150\n",
      "8/8 [==============================] - 1s 108ms/step - loss: 0.0070 - val_loss: 0.0038\n",
      "Epoch 144/150\n",
      "8/8 [==============================] - 1s 116ms/step - loss: 0.0077 - val_loss: 0.0034\n",
      "Epoch 145/150\n",
      "8/8 [==============================] - 1s 116ms/step - loss: 0.0068 - val_loss: 0.0041\n",
      "Epoch 146/150\n",
      "8/8 [==============================] - 1s 108ms/step - loss: 0.0086 - val_loss: 0.0038\n",
      "Epoch 147/150\n",
      "8/8 [==============================] - 1s 104ms/step - loss: 0.0080 - val_loss: 0.0034\n",
      "Epoch 148/150\n",
      "8/8 [==============================] - 1s 113ms/step - loss: 0.0078 - val_loss: 0.0037\n",
      "Epoch 149/150\n",
      "8/8 [==============================] - 1s 110ms/step - loss: 0.0073 - val_loss: 0.0035\n",
      "Epoch 150/150\n",
      "8/8 [==============================] - 1s 114ms/step - loss: 0.0074 - val_loss: 0.0036\n"
     ]
    }
   ],
   "source": [
    "history = model.fit(X_train,y_train,batch_size=32,epochs=150,validation_data=(X_test,y_test),verbose=1)"
   ]
  },
  {
   "cell_type": "markdown",
   "metadata": {
    "id": "MCJGkR5wB3NQ"
   },
   "source": [
    "### Model Evaluation\n",
    "\n",
    "* Training loss per epoch\n",
    "* Calculate root mean squared error\n",
    "* Plot predictions in training and test data"
   ]
  },
  {
   "cell_type": "markdown",
   "metadata": {
    "id": "wOSyqoELHJZR"
   },
   "source": [
    "#### Training loss per epoch"
   ]
  },
  {
   "cell_type": "code",
   "execution_count": 20,
   "metadata": {
    "colab": {
     "base_uri": "https://localhost:8080/",
     "height": 350
    },
    "id": "etepAtUDHJvh",
    "outputId": "527060e4-a6ec-41ce-af4f-633694446152"
   },
   "outputs": [
    {
     "data": {
      "image/png": "[encoded data removed]",
      "text/plain": [
       "<Figure size 1080x360 with 1 Axes>"
      ]
     },
     "metadata": {
      "needs_background": "light",
      "tags": []
     },
     "output_type": "display_data"
    }
   ],
   "source": [
    "loss = history.history['loss']\n",
    "val_loss = history.history['val_loss']\n",
    "\n",
    "plt.figure(figsize=(15,5))\n",
    "plt.plot(loss,lw=3)\n",
    "plt.plot(val_loss,lw=3)\n",
    "plt.title('Training Loss per Epoch')\n",
    "plt.xlabel('Epochs')\n",
    "plt.ylabel('Loss')\n",
    "plt.legend(['Loss', 'Validation loss'])\n",
    "sns.despine()"
   ]
  },
  {
   "cell_type": "markdown",
   "metadata": {
    "id": "Wi03Hn7JRXOT"
   },
   "source": [
    "#### Calculate root mean squared error"
   ]
  },
  {
   "cell_type": "code",
   "execution_count": 21,
   "metadata": {
    "id": "y09z27PJ2802"
   },
   "outputs": [],
   "source": [
    "import math\n",
    "from sklearn.metrics import mean_squared_error"
   ]
  },
  {
   "cell_type": "code",
   "execution_count": 22,
   "metadata": {
    "colab": {
     "base_uri": "https://localhost:8080/"
    },
    "id": "Q3hkPtUpDx5O",
    "outputId": "5c414641-129f-4c13-ed4c-8a0879c48b48"
   },
   "outputs": [
    {
     "name": "stdout",
     "output_type": "stream",
     "text": [
      "y train root mean squared error: 580.9383509803484\n",
      "y test root mean squared error: 405.1845201555707\n"
     ]
    }
   ],
   "source": [
    "# prediction for training and testing data\n",
    "y_train_predicted = model.predict(X_train)\n",
    "y_test_predicted = model.predict(X_test)\n",
    "\n",
    "# inverse transform predicted and true y values for both training and testing data\n",
    "\n",
    "y_train_predicted_scaled_back = scaler.inverse_transform(y_train_predicted) # predicted y train values\n",
    "y_train_scaled_back = scaler.inverse_transform(y_train.reshape(-1, 1)) # truth y train values\n",
    "y_test_predicted_scaled_back = scaler.inverse_transform(y_test_predicted) # predicted y test values\n",
    "y_test_scaled_back = scaler.inverse_transform(y_test.reshape(-1, 1)) # truth y test values\n",
    "\n",
    "# root mean squared error in training and test data\n",
    "\n",
    "y_train_rmse = math.sqrt(mean_squared_error(y_train_scaled_back,y_train_predicted_scaled_back))\n",
    "y_test_rmse = math.sqrt(mean_squared_error(y_test_scaled_back,y_test_predicted_scaled_back))\n",
    "\n",
    "print(f'y train root mean squared error: {y_train_rmse}')\n",
    "print(f'y test root mean squared error: {y_test_rmse}')"
   ]
  },
  {
   "cell_type": "markdown",
   "metadata": {
    "id": "u6YUOKZyRZHV"
   },
   "source": [
    "#### Plot predictions in training and test data"
   ]
  },
  {
   "cell_type": "code",
   "execution_count": 23,
   "metadata": {
    "colab": {
     "base_uri": "https://localhost:8080/",
     "height": 204
    },
    "id": "BHhI5HiuzgtO",
    "outputId": "dcb7dcb3-86d7-433a-b956-c04a2966edff"
   },
   "outputs": [
    {
     "data": {
      "text/html": [
       "<div>\n",
       "<style scoped>\n",
       "    .dataframe tbody tr th:only-of-type {\n",
       "        vertical-align: middle;\n",
       "    }\n",
       "\n",
       "    .dataframe tbody tr th {\n",
       "        vertical-align: top;\n",
       "    }\n",
       "\n",
       "    .dataframe thead th {\n",
       "        text-align: right;\n",
       "    }\n",
       "</style>\n",
       "<table border=\"1\" class=\"dataframe\">\n",
       "  <thead>\n",
       "    <tr style=\"text-align: right;\">\n",
       "      <th></th>\n",
       "      <th>Date</th>\n",
       "      <th>Philippines</th>\n",
       "      <th>Predicted</th>\n",
       "    </tr>\n",
       "  </thead>\n",
       "  <tbody>\n",
       "    <tr>\n",
       "      <th>0</th>\n",
       "      <td>2020-01-23</td>\n",
       "      <td>0.0</td>\n",
       "      <td>NaN</td>\n",
       "    </tr>\n",
       "    <tr>\n",
       "      <th>1</th>\n",
       "      <td>2020-01-24</td>\n",
       "      <td>0.0</td>\n",
       "      <td>NaN</td>\n",
       "    </tr>\n",
       "    <tr>\n",
       "      <th>2</th>\n",
       "      <td>2020-01-25</td>\n",
       "      <td>0.0</td>\n",
       "      <td>NaN</td>\n",
       "    </tr>\n",
       "    <tr>\n",
       "      <th>3</th>\n",
       "      <td>2020-01-26</td>\n",
       "      <td>0.0</td>\n",
       "      <td>NaN</td>\n",
       "    </tr>\n",
       "    <tr>\n",
       "      <th>4</th>\n",
       "      <td>2020-01-27</td>\n",
       "      <td>0.0</td>\n",
       "      <td>NaN</td>\n",
       "    </tr>\n",
       "  </tbody>\n",
       "</table>\n",
       "</div>"
      ],
      "text/plain": [
       "        Date  Philippines  Predicted\n",
       "0 2020-01-23          0.0        NaN\n",
       "1 2020-01-24          0.0        NaN\n",
       "2 2020-01-25          0.0        NaN\n",
       "3 2020-01-26          0.0        NaN\n",
       "4 2020-01-27          0.0        NaN"
      ]
     },
     "execution_count": 23,
     "metadata": {
      "tags": []
     },
     "output_type": "execute_result"
    }
   ],
   "source": [
    "# shift predictions for 60 days(based on timesteps) in both training and testing data \n",
    "# since predictions start after first 60 days(based on timesteps)\n",
    "shift = timesteps\n",
    "\n",
    "# initializing plots for prediction\n",
    "prediction_plot = np.empty(len(ph_data))\n",
    "prediction_plot[:] = np.nan\n",
    "\n",
    "# training data prediction\n",
    "# training data length was initialized before\n",
    "prediction_plot[shift:training_data_length] = y_train_predicted_scaled_back.reshape(-1)\n",
    "\n",
    "# testing data prediction\n",
    "prediction_plot[training_data_length+shift:] = y_test_predicted_scaled_back.reshape(-1)\n",
    "\n",
    "# merge predicted values into philippine data\n",
    "\n",
    "ph_data_with_predicted = ph_data_copy\n",
    "ph_data_with_predicted['Predicted'] = prediction_plot\n",
    "\n",
    "ph_data_with_predicted.head()"
   ]
  },
  {
   "cell_type": "code",
   "execution_count": 24,
   "metadata": {
    "colab": {
     "base_uri": "https://localhost:8080/",
     "height": 444
    },
    "id": "YKlmGc73EWoV",
    "outputId": "4a004e3c-3860-4ec3-c572-3839830a6255"
   },
   "outputs": [
    {
     "data": {
      "image/png": "[encoded data removed]",
      "text/plain": [
       "<Figure size 1080x504 with 1 Axes>"
      ]
     },
     "metadata": {
      "needs_background": "light",
      "tags": []
     },
     "output_type": "display_data"
    }
   ],
   "source": [
    "plt.figure(figsize=(15,7))\n",
    "plt.title('Daily new cases')\n",
    "plt.plot_date(ph_data_with_predicted['Date'],ph_data_with_predicted['Philippines'],fmt='-',lw=3)\n",
    "plt.plot_date(ph_data_with_predicted['Date'],ph_data_with_predicted['Predicted'],fmt='-',lw=3)\n",
    "plt.ylabel('New cases')\n",
    "plt.legend(['True new cases', 'Predicted new cases'])\n",
    "plt.grid()\n",
    "plt.show()"
   ]
  },
  {
   "cell_type": "code",
   "execution_count": 25,
   "metadata": {
    "colab": {
     "base_uri": "https://localhost:8080/",
     "height": 444
    },
    "id": "TFlB8CuJKtt3",
    "outputId": "80f46fad-335f-43f5-f5c0-3912e3a097d1"
   },
   "outputs": [
    {
     "data": {
      "image/png": "[encoded data removed]",
      "text/plain": [
       "<Figure size 1080x504 with 1 Axes>"
      ]
     },
     "metadata": {
      "needs_background": "light",
      "tags": []
     },
     "output_type": "display_data"
    }
   ],
   "source": [
    "weekly_cases = ph_data_with_predicted.set_index('Date').resample('W').mean()\n",
    "plt.figure(figsize=(15,7))\n",
    "plt.title('Average weekly new cases')\n",
    "plt.plot_date(weekly_cases.index,weekly_cases['Philippines'],fmt='-',lw=3)\n",
    "plt.plot_date(weekly_cases.index,weekly_cases['Predicted'],fmt='-',lw=3)\n",
    "plt.ylabel('New cases')\n",
    "plt.legend(['True new cases', 'Predicted new cases'])\n",
    "plt.grid()\n",
    "plt.show()"
   ]
  },
  {
   "cell_type": "markdown",
   "metadata": {
    "id": "YWv5zSGNWRoD"
   },
   "source": [
    "### Saving the model"
   ]
  },
  {
   "cell_type": "code",
   "execution_count": 26,
   "metadata": {
    "id": "aIwb2Y72WSqx"
   },
   "outputs": [],
   "source": [
    "import pickle\n",
    "\n",
    "model.save('forecasting_covid_19_ph_model.h5')\n",
    "pickle.dump(scaler,open('scaler.pickle','wb'))"
   ]
  },
  {
   "cell_type": "markdown",
   "metadata": {
    "id": "enEYeV6iY4wD"
   },
   "source": [
    "### Forecasting\n",
    "\n",
    "* Retrieve new cases in the last 60 days\n",
    "* Load saved model and scaler\n",
    "* Forecast new cases in the future"
   ]
  },
  {
   "cell_type": "markdown",
   "metadata": {
    "id": "7TAx1wnI6QvN"
   },
   "source": [
    "#### Retrieve new cases in the last 60 days"
   ]
  },
  {
   "cell_type": "code",
   "execution_count": 27,
   "metadata": {
    "colab": {
     "base_uri": "https://localhost:8080/"
    },
    "id": "qibmyUJAh0Dz",
    "outputId": "0112038a-a909-4753-a21f-f680c4cdb8f1"
   },
   "outputs": [
    {
     "name": "stdout",
     "output_type": "stream",
     "text": [
      "Date:  2021-01-28\n",
      "Cases:  519575\n",
      "Date:  2021-01-27\n",
      "Cases:  518407\n",
      "Date:  2021-01-26\n",
      "Cases:  516166\n",
      "Date:  2021-01-25\n",
      "Cases:  514996\n",
      "Date:  2021-01-24\n",
      "Cases:  513619\n"
     ]
    }
   ],
   "source": [
    "import requests\n",
    "import json\n",
    "\n",
    "url = 'https://covid-api.mmediagroup.fr/v1/history?country=Philippines&status=confirmed'\n",
    "x = requests.get(url)\n",
    "loaded_ph_data = json.loads(x.text)['All']['dates']\n",
    "dates = list(loaded_ph_data.keys())\n",
    "cases = list(loaded_ph_data.values())\n",
    "\n",
    "# the api gives updated total confirmed cases in each day\n",
    "for date in dates[:5]:\n",
    "  print('Date: ',date)\n",
    "  print('Cases: ',loaded_ph_data[date])"
   ]
  },
  {
   "cell_type": "code",
   "execution_count": 28,
   "metadata": {
    "colab": {
     "base_uri": "https://localhost:8080/",
     "height": 204
    },
    "id": "0MuM5ffnsqoA",
    "outputId": "66989213-54de-4f9b-9e8d-cc215ca97152"
   },
   "outputs": [
    {
     "data": {
      "text/html": [
       "<div>\n",
       "<style scoped>\n",
       "    .dataframe tbody tr th:only-of-type {\n",
       "        vertical-align: middle;\n",
       "    }\n",
       "\n",
       "    .dataframe tbody tr th {\n",
       "        vertical-align: top;\n",
       "    }\n",
       "\n",
       "    .dataframe thead th {\n",
       "        text-align: right;\n",
       "    }\n",
       "</style>\n",
       "<table border=\"1\" class=\"dataframe\">\n",
       "  <thead>\n",
       "    <tr style=\"text-align: right;\">\n",
       "      <th></th>\n",
       "      <th>Date</th>\n",
       "      <th>New cases</th>\n",
       "    </tr>\n",
       "  </thead>\n",
       "  <tbody>\n",
       "    <tr>\n",
       "      <th>0</th>\n",
       "      <td>2020-01-23</td>\n",
       "      <td>0</td>\n",
       "    </tr>\n",
       "    <tr>\n",
       "      <th>1</th>\n",
       "      <td>2020-01-24</td>\n",
       "      <td>0</td>\n",
       "    </tr>\n",
       "    <tr>\n",
       "      <th>2</th>\n",
       "      <td>2020-01-25</td>\n",
       "      <td>0</td>\n",
       "    </tr>\n",
       "    <tr>\n",
       "      <th>3</th>\n",
       "      <td>2020-01-26</td>\n",
       "      <td>0</td>\n",
       "    </tr>\n",
       "    <tr>\n",
       "      <th>4</th>\n",
       "      <td>2020-01-27</td>\n",
       "      <td>0</td>\n",
       "    </tr>\n",
       "  </tbody>\n",
       "</table>\n",
       "</div>"
      ],
      "text/plain": [
       "        Date  New cases\n",
       "0 2020-01-23          0\n",
       "1 2020-01-24          0\n",
       "2 2020-01-25          0\n",
       "3 2020-01-26          0\n",
       "4 2020-01-27          0"
      ]
     },
     "execution_count": 28,
     "metadata": {
      "tags": []
     },
     "output_type": "execute_result"
    }
   ],
   "source": [
    "# get the number of new cases everyday\n",
    "# note that dates and cases are reversed (index 0 gives the latest number of new cases)\n",
    "today = np.array(cases[:-1])\n",
    "yesterday = np.array(cases[1:])\n",
    "\n",
    "# reversing the numpy array\n",
    "new_cases = np.flip(today - yesterday)\n",
    "\n",
    "cases_df = pd.DataFrame({'Date':dates[::-1][1:],'New cases':new_cases})\n",
    "cases_df['Date'] = pd.to_datetime(cases_df['Date'])\n",
    "cases_df.head()"
   ]
  },
  {
   "cell_type": "markdown",
   "metadata": {
    "id": "yIVHP3JR6Tgz"
   },
   "source": [
    "#### Load saved model and scaler"
   ]
  },
  {
   "cell_type": "code",
   "execution_count": 29,
   "metadata": {
    "id": "hO2_NdsK51WX"
   },
   "outputs": [],
   "source": [
    "loaded_model = tf.keras.models.load_model('forecasting_covid_19_ph_model.h5')\n",
    "loaded_scaler = pickle.load(open('scaler.pickle','rb'))\n",
    "\n",
    "# retrieve and scale down the new cases in the last 60 days(timesteps required for prediction)\n",
    "new_cases_60_days = loaded_scaler.transform(np.array(cases_df.tail(60)['New cases']).reshape(-1, 1))"
   ]
  },
  {
   "cell_type": "markdown",
   "metadata": {
    "id": "8luJbXpE6V9Y"
   },
   "source": [
    "#### Forecast new cases in the future"
   ]
  },
  {
   "cell_type": "code",
   "execution_count": 30,
   "metadata": {
    "id": "BKJB9Kr651Ur"
   },
   "outputs": [],
   "source": [
    "def forecast(days):\n",
    "  future_predictions = []\n",
    "  # reshaping into shape [batch, timesteps, feature]\n",
    "  reshaped_new_cases_60_days = new_cases_60_days.reshape(1,60,1)\n",
    "  for i in range(days):\n",
    "    # predicts and adding prediction to list\n",
    "    prediction = loaded_model.predict(reshaped_new_cases_60_days)\n",
    "    future_predictions.append(max(0,prediction[0][0])) # applying max(0,prediction) to convert negative predictions to 0\n",
    "    # appending prediction to new cases and updating new cases in the last 60 days\n",
    "    reshaped_new_cases_60_days = np.append(reshaped_new_cases_60_days,prediction.reshape(1,1,1),axis=1)\n",
    "    reshaped_new_cases_60_days = reshaped_new_cases_60_days[:,1:]\n",
    "  return np.array(future_predictions)"
   ]
  },
  {
   "cell_type": "code",
   "execution_count": 36,
   "metadata": {
    "colab": {
     "base_uri": "https://localhost:8080/",
     "height": 1000
    },
    "id": "S2HgdbOh-N5F",
    "outputId": "7db830d8-e62f-4b52-a358-740ec2c081ed"
   },
   "outputs": [
    {
     "data": {
      "text/html": [
       "<div>\n",
       "<style scoped>\n",
       "    .dataframe tbody tr th:only-of-type {\n",
       "        vertical-align: middle;\n",
       "    }\n",
       "\n",
       "    .dataframe tbody tr th {\n",
       "        vertical-align: top;\n",
       "    }\n",
       "\n",
       "    .dataframe thead th {\n",
       "        text-align: right;\n",
       "    }\n",
       "</style>\n",
       "<table border=\"1\" class=\"dataframe\">\n",
       "  <thead>\n",
       "    <tr style=\"text-align: right;\">\n",
       "      <th></th>\n",
       "      <th>Date</th>\n",
       "      <th>Predicted new cases</th>\n",
       "    </tr>\n",
       "  </thead>\n",
       "  <tbody>\n",
       "    <tr>\n",
       "      <th>0</th>\n",
       "      <td>2021-01-28</td>\n",
       "      <td>1168</td>\n",
       "    </tr>\n",
       "    <tr>\n",
       "      <th>1</th>\n",
       "      <td>2021-01-29</td>\n",
       "      <td>2271</td>\n",
       "    </tr>\n",
       "    <tr>\n",
       "      <th>2</th>\n",
       "      <td>2021-01-30</td>\n",
       "      <td>2378</td>\n",
       "    </tr>\n",
       "    <tr>\n",
       "      <th>3</th>\n",
       "      <td>2021-01-31</td>\n",
       "      <td>2464</td>\n",
       "    </tr>\n",
       "    <tr>\n",
       "      <th>4</th>\n",
       "      <td>2021-02-01</td>\n",
       "      <td>2561</td>\n",
       "    </tr>\n",
       "    <tr>\n",
       "      <th>5</th>\n",
       "      <td>2021-02-02</td>\n",
       "      <td>2638</td>\n",
       "    </tr>\n",
       "    <tr>\n",
       "      <th>6</th>\n",
       "      <td>2021-02-03</td>\n",
       "      <td>2708</td>\n",
       "    </tr>\n",
       "    <tr>\n",
       "      <th>7</th>\n",
       "      <td>2021-02-04</td>\n",
       "      <td>2825</td>\n",
       "    </tr>\n",
       "    <tr>\n",
       "      <th>8</th>\n",
       "      <td>2021-02-05</td>\n",
       "      <td>2939</td>\n",
       "    </tr>\n",
       "    <tr>\n",
       "      <th>9</th>\n",
       "      <td>2021-02-06</td>\n",
       "      <td>3033</td>\n",
       "    </tr>\n",
       "    <tr>\n",
       "      <th>10</th>\n",
       "      <td>2021-02-07</td>\n",
       "      <td>3109</td>\n",
       "    </tr>\n",
       "    <tr>\n",
       "      <th>11</th>\n",
       "      <td>2021-02-08</td>\n",
       "      <td>3177</td>\n",
       "    </tr>\n",
       "    <tr>\n",
       "      <th>12</th>\n",
       "      <td>2021-02-09</td>\n",
       "      <td>3238</td>\n",
       "    </tr>\n",
       "    <tr>\n",
       "      <th>13</th>\n",
       "      <td>2021-02-10</td>\n",
       "      <td>3300</td>\n",
       "    </tr>\n",
       "    <tr>\n",
       "      <th>14</th>\n",
       "      <td>2021-02-11</td>\n",
       "      <td>3343</td>\n",
       "    </tr>\n",
       "    <tr>\n",
       "      <th>15</th>\n",
       "      <td>2021-02-12</td>\n",
       "      <td>3370</td>\n",
       "    </tr>\n",
       "    <tr>\n",
       "      <th>16</th>\n",
       "      <td>2021-02-13</td>\n",
       "      <td>3412</td>\n",
       "    </tr>\n",
       "    <tr>\n",
       "      <th>17</th>\n",
       "      <td>2021-02-14</td>\n",
       "      <td>3440</td>\n",
       "    </tr>\n",
       "    <tr>\n",
       "      <th>18</th>\n",
       "      <td>2021-02-15</td>\n",
       "      <td>3473</td>\n",
       "    </tr>\n",
       "    <tr>\n",
       "      <th>19</th>\n",
       "      <td>2021-02-16</td>\n",
       "      <td>3527</td>\n",
       "    </tr>\n",
       "    <tr>\n",
       "      <th>20</th>\n",
       "      <td>2021-02-17</td>\n",
       "      <td>3622</td>\n",
       "    </tr>\n",
       "    <tr>\n",
       "      <th>21</th>\n",
       "      <td>2021-02-18</td>\n",
       "      <td>3669</td>\n",
       "    </tr>\n",
       "    <tr>\n",
       "      <th>22</th>\n",
       "      <td>2021-02-19</td>\n",
       "      <td>3728</td>\n",
       "    </tr>\n",
       "    <tr>\n",
       "      <th>23</th>\n",
       "      <td>2021-02-20</td>\n",
       "      <td>3776</td>\n",
       "    </tr>\n",
       "    <tr>\n",
       "      <th>24</th>\n",
       "      <td>2021-02-21</td>\n",
       "      <td>3789</td>\n",
       "    </tr>\n",
       "    <tr>\n",
       "      <th>25</th>\n",
       "      <td>2021-02-22</td>\n",
       "      <td>3786</td>\n",
       "    </tr>\n",
       "    <tr>\n",
       "      <th>26</th>\n",
       "      <td>2021-02-23</td>\n",
       "      <td>3809</td>\n",
       "    </tr>\n",
       "    <tr>\n",
       "      <th>27</th>\n",
       "      <td>2021-02-24</td>\n",
       "      <td>3828</td>\n",
       "    </tr>\n",
       "    <tr>\n",
       "      <th>28</th>\n",
       "      <td>2021-02-25</td>\n",
       "      <td>3801</td>\n",
       "    </tr>\n",
       "    <tr>\n",
       "      <th>29</th>\n",
       "      <td>2021-02-26</td>\n",
       "      <td>3730</td>\n",
       "    </tr>\n",
       "    <tr>\n",
       "      <th>30</th>\n",
       "      <td>2021-02-27</td>\n",
       "      <td>3646</td>\n",
       "    </tr>\n",
       "  </tbody>\n",
       "</table>\n",
       "</div>"
      ],
      "text/plain": [
       "         Date  Predicted new cases\n",
       "0  2021-01-28                 1168\n",
       "1  2021-01-29                 2271\n",
       "2  2021-01-30                 2378\n",
       "3  2021-01-31                 2464\n",
       "4  2021-02-01                 2561\n",
       "5  2021-02-02                 2638\n",
       "6  2021-02-03                 2708\n",
       "7  2021-02-04                 2825\n",
       "8  2021-02-05                 2939\n",
       "9  2021-02-06                 3033\n",
       "10 2021-02-07                 3109\n",
       "11 2021-02-08                 3177\n",
       "12 2021-02-09                 3238\n",
       "13 2021-02-10                 3300\n",
       "14 2021-02-11                 3343\n",
       "15 2021-02-12                 3370\n",
       "16 2021-02-13                 3412\n",
       "17 2021-02-14                 3440\n",
       "18 2021-02-15                 3473\n",
       "19 2021-02-16                 3527\n",
       "20 2021-02-17                 3622\n",
       "21 2021-02-18                 3669\n",
       "22 2021-02-19                 3728\n",
       "23 2021-02-20                 3776\n",
       "24 2021-02-21                 3789\n",
       "25 2021-02-22                 3786\n",
       "26 2021-02-23                 3809\n",
       "27 2021-02-24                 3828\n",
       "28 2021-02-25                 3801\n",
       "29 2021-02-26                 3730\n",
       "30 2021-02-27                 3646"
      ]
     },
     "execution_count": 36,
     "metadata": {
      "tags": []
     },
     "output_type": "execute_result"
    }
   ],
   "source": [
    "from datetime import datetime\n",
    "\n",
    "days_to_forecast = 30\n",
    "\n",
    "# latest date in the covid data\n",
    "latest_date = datetime.strptime(dates[0], '%Y-%m-%d').date()\n",
    "\n",
    "# we include the latest date new cases in order to connect predicted new cases to current cases\n",
    "prediction_dates = pd.date_range(latest_date,periods=days_to_forecast+1)\n",
    "predicted_new_cases = loaded_scaler.inverse_transform(forecast(days_to_forecast).reshape(-1,1)).astype(int).reshape(-1)\n",
    "# inserting new cases of the latest date\n",
    "predicted_new_cases = np.insert(predicted_new_cases,0,np.array(cases_df.tail(1)['New cases']),axis=0)\n",
    "\n",
    "prediction_df = pd.DataFrame({'Date':prediction_dates,'Predicted new cases':predicted_new_cases})\n",
    "prediction_df"
   ]
  },
  {
   "cell_type": "code",
   "execution_count": 37,
   "metadata": {
    "colab": {
     "base_uri": "https://localhost:8080/",
     "height": 477
    },
    "id": "N-381smbL4cz",
    "outputId": "2ea56e95-64ba-48dc-c1a5-6d1365f9d920"
   },
   "outputs": [
    {
     "data": {
      "image/png": "[encoded data removed]",
      "text/plain": [
       "<Figure size 1080x504 with 1 Axes>"
      ]
     },
     "metadata": {
      "needs_background": "light",
      "tags": []
     },
     "output_type": "display_data"
    }
   ],
   "source": [
    "# prediction end date\n",
    "last_row = prediction_df.tail(1)\n",
    "last_date_prediction = last_row['Date'].dt.strftime('%B %d, %Y').values[0]\n",
    "last_date_prediction_new_cases = last_row['Predicted new cases'].values[0]\n",
    "\n",
    "plt.figure(figsize=(15,7))\n",
    "plt.title('30 day forecast')\n",
    "plt.plot_date(cases_df['Date'],cases_df['New cases'],fmt='-',lw=3)\n",
    "plt.plot_date(prediction_df['Date'],prediction_df['Predicted new cases'],fmt='-',lw=3)\n",
    "plt.legend(['True new cases', 'Predicted new cases'])\n",
    "plt.xlabel(f'{last_date_prediction}: {last_date_prediction_new_cases:,} new cases',labelpad=20,fontdict={'fontsize':12})\n",
    "plt.ylabel('New cases')\n",
    "plt.grid()\n",
    "plt.show()"
   ]
  },
  {
   "cell_type": "code",
   "execution_count": 38,
   "metadata": {
    "colab": {
     "base_uri": "https://localhost:8080/",
     "height": 477
    },
    "id": "W2NX3m-FAahH",
    "outputId": "c577628f-a8a8-45b6-a1b5-bab55a25dfbb"
   },
   "outputs": [
    {
     "data": {
      "image/png": "[encoded data removed]",
      "text/plain": [
       "<Figure size 1080x504 with 1 Axes>"
      ]
     },
     "metadata": {
      "needs_background": "light",
      "tags": []
     },
     "output_type": "display_data"
    }
   ],
   "source": [
    "# forecast for 120 days\n",
    "days_to_forecast = 120\n",
    "\n",
    "# latest date in the covid data\n",
    "latest_date = datetime.strptime(dates[0], '%Y-%m-%d').date()\n",
    "\n",
    "# we include the latest date new cases in order to connect predicted new cases to current cases\n",
    "prediction_dates = pd.date_range(latest_date,periods=days_to_forecast+1)\n",
    "predicted_new_cases = loaded_scaler.inverse_transform(forecast(days_to_forecast).reshape(-1,1)).astype(int).reshape(-1)\n",
    "# inserting new cases of the latest date\n",
    "predicted_new_cases = np.insert(predicted_new_cases,0,np.array(cases_df.tail(1)['New cases']),axis=0)\n",
    "\n",
    "prediction_df = pd.DataFrame({'Date':prediction_dates,'Predicted new cases':predicted_new_cases})\n",
    "\n",
    "last_row = prediction_df.tail(1)\n",
    "last_date_prediction = last_row['Date'].dt.strftime('%B %d, %Y').values[0]\n",
    "last_date_prediction_new_cases = last_row['Predicted new cases'].values[0]\n",
    "\n",
    "plt.figure(figsize=(15,7))\n",
    "plt.title('120 day forecast')\n",
    "plt.plot_date(cases_df['Date'],cases_df['New cases'],fmt='-',lw=3)\n",
    "plt.plot_date(prediction_df['Date'],prediction_df['Predicted new cases'],fmt='-',lw=3)\n",
    "plt.legend(['True new cases', 'Predicted new cases'])\n",
    "plt.xlabel(f'{last_date_prediction}: {last_date_prediction_new_cases:,} new cases',labelpad=20,fontdict={'fontsize':12})\n",
    "plt.ylabel('New cases')\n",
    "plt.grid()\n",
    "plt.show()"
   ]
  }
 ],
 "metadata": {
  "colab": {
   "collapsed_sections": [],
   "name": "forecasting_covid_19_ph.ipynb",
   "provenance": []
  },
  "kernelspec": {
   "display_name": "Python 3",
   "language": "python",
   "name": "python3"
  },
  "language_info": {
   "codemirror_mode": {
    "name": "ipython",
    "version": 3
   },
   "file_extension": ".py",
   "mimetype": "text/x-python",
   "name": "python",
   "nbconvert_exporter": "python",
   "pygments_lexer": "ipython3",
   "version": "3.7.9"
  }
 },
 "nbformat": 4,
 "nbformat_minor": 1
}
